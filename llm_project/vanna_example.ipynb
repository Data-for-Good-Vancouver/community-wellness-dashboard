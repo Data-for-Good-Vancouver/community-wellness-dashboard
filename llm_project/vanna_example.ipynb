{
 "cells": [
  {
   "cell_type": "markdown",
   "id": "364000a8-31f8-4db5-aa45-86b13c9b64ae",
   "metadata": {},
   "source": [
    "### Vanna notebook example\n",
    "To get started, you need to register an account on [this site](https://vanna.ai/). AFter that, it should prompt you to create a model and name it. Remember the name and also copy the api key, and you can run this notebook. "
   ]
  },
  {
   "cell_type": "code",
   "execution_count": 21,
   "id": "48cd6adf-004a-46c4-9574-d1abb799b9c0",
   "metadata": {},
   "outputs": [],
   "source": [
    "from vanna.ollama import Ollama\n",
    "from vanna.vannadb import VannaDB_VectorStore"
   ]
  },
  {
   "cell_type": "code",
   "execution_count": 22,
   "id": "2a85e271-60c8-4360-8c45-336ec3cd0f4f",
   "metadata": {},
   "outputs": [],
   "source": [
    "class MyVanna(VannaDB_VectorStore, Ollama):\n",
    "    def __init__(self, config=None):\n",
    "        MY_VANNA_MODEL = \"\" #replace with the name of the model you created in Vanna\n",
    "        VannaDB_VectorStore.__init__(self, vanna_model=MY_VANNA_MODEL, vanna_api_key=\"\", config=config) #replace vanna_api_key with your own key\n",
    "        Ollama.__init__(self, config=config)"
   ]
  },
  {
   "cell_type": "code",
   "execution_count": 23,
   "id": "700af9ec-b16b-4c53-94d8-533af9a8fd22",
   "metadata": {},
   "outputs": [],
   "source": [
    "vn = MyVanna(config={'model': 'sqlcoder'})"
   ]
  },
  {
   "cell_type": "code",
   "execution_count": 25,
   "id": "abf3acfa-e926-434b-885b-4d6f88212668",
   "metadata": {},
   "outputs": [],
   "source": [
    "vn.connect_to_postgres(host=\"\",\n",
    "    dbname=\"\",\n",
    "    user=\"\",\n",
    "    password=\"\",\n",
    "    port=)"
   ]
  },
  {
   "cell_type": "code",
   "execution_count": 26,
   "id": "55e4c6e2-5d46-4f6b-b89b-6aade5b07232",
   "metadata": {},
   "outputs": [],
   "source": [
    "df_information_schema = vn.run_sql(\"SELECT * FROM INFORMATION_SCHEMA.COLUMNS\")"
   ]
  },
  {
   "cell_type": "code",
   "execution_count": 28,
   "id": "cd62dba3-46e9-4998-9a0e-57e9e265c4de",
   "metadata": {},
   "outputs": [],
   "source": [
    "plan = vn.get_training_plan_generic(df_information_schema)"
   ]
  },
  {
   "cell_type": "code",
   "execution_count": null,
   "id": "5bef92e1-1088-4578-b448-4895ef50d732",
   "metadata": {},
   "outputs": [],
   "source": [
    "vn.train(\n",
    "    question=\"What is the district with the shortest library distance?\", \n",
    "    sql=\"SELECT MIN(closest_library_dist_km_median) FROM distances\"\n",
    ")"
   ]
  },
  {
   "cell_type": "code",
   "execution_count": 29,
   "id": "599ccf2f-e3a2-49dd-99cf-15d7ac11963c",
   "metadata": {},
   "outputs": [],
   "source": [
    "vn.train(plan=plan)"
   ]
  },
  {
   "cell_type": "code",
   "execution_count": 31,
   "id": "c1d1faff-27f4-43f7-bb13-17816998b025",
   "metadata": {},
   "outputs": [
    {
     "name": "stdout",
     "output_type": "stream",
     "text": [
      "SQL Prompt: [{'role': 'system', 'content': 'You are a PostgreSQL expert. Please help to generate a SQL query to answer the question. Your response should ONLY be based on the given context and follow the response guidelines and format instructions. \\n===Additional Context \\n\\nThe following columns are in the distances table in the postgres database:\\n\\n|      | table_catalog   | table_schema   | table_name   | column_name                                   | data_type        |\\n|-----:|:----------------|:---------------|:-------------|:----------------------------------------------|:-----------------|\\n|  874 | postgres        | dfg            | distances    | closest_library_dist_km_median                | double precision |\\n|  875 | postgres        | dfg            | distances    | closest_school_dist_km_median                 | double precision |\\n|  876 | postgres        | dfg            | distances    | closest_strongstart_school_dist_km_median     | double precision |\\n|  877 | postgres        | dfg            | distances    | closest_adult_education_school_dist_km_median | double precision |\\n|  878 | postgres        | dfg            | distances    | closest_postsecondary_school_dist_km_median   | double precision |\\n| 1066 | postgres        | dfg            | distances    | closest_school_name_agg_list                  | text             |\\n| 1067 | postgres        | dfg            | distances    | closest_adult_education_school_name_agg_list  | text             |\\n| 1087 | postgres        | dfg            | distances    | electoral_area                                | text             |\\n| 1088 | postgres        | dfg            | distances    | closest_library_name_agg_list                 | text             |\\n| 1101 | postgres        | dfg            | distances    | closest_postsecondary_school_name_agg_list    | text             |\\n| 1102 | postgres        | dfg            | distances    | closest_strongstart_school_name_agg_list      | text             |\\n\\nThe following columns are in the test_table table in the postgres database:\\n\\n|      | table_catalog   | table_schema   | table_name   | column_name   | data_type         |\\n|-----:|:----------------|:---------------|:-------------|:--------------|:------------------|\\n| 1095 | postgres        | dfg            | test_table   | column1       | character varying |\\n\\nThe following columns are in the pg_timezone_abbrevs table in the postgres database:\\n\\n|      | table_catalog   | table_schema   | table_name          | column_name   | data_type   |\\n|-----:|:----------------|:---------------|:--------------------|:--------------|:------------|\\n|  376 | postgres        | pg_catalog     | pg_timezone_abbrevs | utc_offset    | interval    |\\n|  377 | postgres        | pg_catalog     | pg_timezone_abbrevs | is_dst        | boolean     |\\n| 1051 | postgres        | pg_catalog     | pg_timezone_abbrevs | abbrev        | text        |\\n\\nThe following columns are in the pg_statio_all_tables table in the postgres database:\\n\\n|      | table_catalog   | table_schema   | table_name           | column_name     | data_type   |\\n|-----:|:----------------|:---------------|:---------------------|:----------------|:------------|\\n|  482 | postgres        | pg_catalog     | pg_statio_all_tables | relid           | oid         |\\n|  483 | postgres        | pg_catalog     | pg_statio_all_tables | heap_blks_read  | bigint      |\\n|  484 | postgres        | pg_catalog     | pg_statio_all_tables | heap_blks_hit   | bigint      |\\n|  485 | postgres        | pg_catalog     | pg_statio_all_tables | idx_blks_read   | bigint      |\\n|  486 | postgres        | pg_catalog     | pg_statio_all_tables | idx_blks_hit    | bigint      |\\n|  487 | postgres        | pg_catalog     | pg_statio_all_tables | toast_blks_read | bigint      |\\n|  488 | postgres        | pg_catalog     | pg_statio_all_tables | toast_blks_hit  | bigint      |\\n|  489 | postgres        | pg_catalog     | pg_statio_all_tables | tidx_blks_read  | bigint      |\\n|  490 | postgres        | pg_catalog     | pg_statio_all_tables | tidx_blks_hit   | bigint      |\\n| 1784 | postgres        | pg_catalog     | pg_statio_all_tables | schemaname      | name        |\\n| 1785 | postgres        | pg_catalog     | pg_statio_all_tables | relname         | name        |\\n\\nThe following columns are in the pg_aggregate table in the postgres database:\\n\\n|      | table_catalog   | table_schema   | table_name   | column_name      | data_type   |\\n|-----:|:----------------|:---------------|:-------------|:-----------------|:------------|\\n|   57 | postgres        | pg_catalog     | pg_aggregate | aggfnoid         | regproc     |\\n|   58 | postgres        | pg_catalog     | pg_aggregate | aggkind          | \"char\"      |\\n|   59 | postgres        | pg_catalog     | pg_aggregate | aggnumdirectargs | smallint    |\\n|   60 | postgres        | pg_catalog     | pg_aggregate | aggtransfn       | regproc     |\\n|   61 | postgres        | pg_catalog     | pg_aggregate | aggfinalfn       | regproc     |\\n|   62 | postgres        | pg_catalog     | pg_aggregate | aggcombinefn     | regproc     |\\n|   63 | postgres        | pg_catalog     | pg_aggregate | aggserialfn      | regproc     |\\n|   64 | postgres        | pg_catalog     | pg_aggregate | aggdeserialfn    | regproc     |\\n|   65 | postgres        | pg_catalog     | pg_aggregate | aggmtransfn      | regproc     |\\n|   66 | postgres        | pg_catalog     | pg_aggregate | aggminvtransfn   | regproc     |\\n|   67 | postgres        | pg_catalog     | pg_aggregate | aggmfinalfn      | regproc     |\\n|   68 | postgres        | pg_catalog     | pg_aggregate | aggfinalextra    | boolean     |\\n|   69 | postgres        | pg_catalog     | pg_aggregate | aggmfinalextra   | boolean     |\\n|   70 | postgres        | pg_catalog     | pg_aggregate | aggfinalmodify   | \"char\"      |\\n|   71 | postgres        | pg_catalog     | pg_aggregate | aggmfinalmodify  | \"char\"      |\\n|   72 | postgres        | pg_catalog     | pg_aggregate | aggsortop        | oid         |\\n|   73 | postgres        | pg_catalog     | pg_aggregate | aggtranstype     | oid         |\\n|   74 | postgres        | pg_catalog     | pg_aggregate | aggtransspace    | integer     |\\n|   75 | postgres        | pg_catalog     | pg_aggregate | aggmtranstype    | oid         |\\n|   76 | postgres        | pg_catalog     | pg_aggregate | aggmtransspace   | integer     |\\n| 1263 | postgres        | pg_catalog     | pg_aggregate | agginitval       | text        |\\n| 1264 | postgres        | pg_catalog     | pg_aggregate | aggminitval      | text        |\\n\\nThe following columns are in the collations table in the postgres database:\\n\\n|      | table_catalog   | table_schema       | table_name   | column_name       | data_type         |\\n|-----:|:----------------|:-------------------|:-------------|:------------------|:------------------|\\n| 1506 | postgres        | information_schema | collations   | collation_catalog | name              |\\n| 1507 | postgres        | information_schema | collations   | collation_schema  | name              |\\n| 1508 | postgres        | information_schema | collations   | collation_name    | name              |\\n| 1509 | postgres        | information_schema | collations   | pad_attribute     | character varying |\\n\\nThe following columns are in the tables table in the postgres database:\\n\\n|      | table_catalog   | table_schema       | table_name   | column_name                  | data_type         |\\n|-----:|:----------------|:-------------------|:-------------|:-----------------------------|:------------------|\\n| 1242 | postgres        | information_schema | tables       | table_catalog                | name              |\\n| 1243 | postgres        | information_schema | tables       | table_schema                 | name              |\\n| 1244 | postgres        | information_schema | tables       | table_name                   | name              |\\n| 1245 | postgres        | information_schema | tables       | table_type                   | character varying |\\n| 1247 | postgres        | information_schema | tables       | self_referencing_column_name | name              |\\n| 1248 | postgres        | information_schema | tables       | reference_generation         | character varying |\\n| 1249 | postgres        | information_schema | tables       | user_defined_type_catalog    | name              |\\n| 1250 | postgres        | information_schema | tables       | user_defined_type_schema     | name              |\\n| 1251 | postgres        | information_schema | tables       | user_defined_type_name       | name              |\\n| 1252 | postgres        | information_schema | tables       | is_insertable_into           | character varying |\\n| 1253 | postgres        | information_schema | tables       | is_typed                     | character varying |\\n| 1256 | postgres        | information_schema | tables       | commit_action                | character varying |\\n\\nThe following columns are in the pg_cast table in the postgres database:\\n\\n|     | table_catalog   | table_schema   | table_name   | column_name   | data_type   |\\n|----:|:----------------|:---------------|:-------------|:--------------|:------------|\\n| 111 | postgres        | pg_catalog     | pg_cast      | oid           | oid         |\\n| 112 | postgres        | pg_catalog     | pg_cast      | castsource    | oid         |\\n| 113 | postgres        | pg_catalog     | pg_cast      | casttarget    | oid         |\\n| 114 | postgres        | pg_catalog     | pg_cast      | castfunc      | oid         |\\n| 115 | postgres        | pg_catalog     | pg_cast      | castcontext   | \"char\"      |\\n| 116 | postgres        | pg_catalog     | pg_cast      | castmethod    | \"char\"      |\\n\\nThe following columns are in the information_schema_catalog_name table in the postgres database:\\n\\n|      | table_catalog   | table_schema       | table_name                      | column_name   | data_type   |\\n|-----:|:----------------|:-------------------|:--------------------------------|:--------------|:------------|\\n| 1437 | postgres        | information_schema | information_schema_catalog_name | catalog_name  | name        |\\n\\nThe following columns are in the pg_timezone_names table in the postgres database:\\n\\n|      | table_catalog   | table_schema   | table_name        | column_name   | data_type   |\\n|-----:|:----------------|:---------------|:------------------|:--------------|:------------|\\n|  378 | postgres        | pg_catalog     | pg_timezone_names | utc_offset    | interval    |\\n|  379 | postgres        | pg_catalog     | pg_timezone_names | is_dst        | boolean     |\\n| 1054 | postgres        | pg_catalog     | pg_timezone_names | name          | text        |\\n| 1055 | postgres        | pg_catalog     | pg_timezone_names | abbrev        | text        |\\n\\n===Response Guidelines \\n1. If the provided context is sufficient, please generate a valid SQL query without any explanations for the question. \\n2. If the provided context is almost sufficient but requires knowledge of a specific string in a particular column, please generate an intermediate SQL query to find the distinct strings in that column. Prepend the query with a comment saying intermediate_sql \\n3. If the provided context is insufficient, please explain why it can\\'t be generated. \\n4. Please use the most relevant table(s). \\n5. If the question has been asked and answered before, please repeat the answer exactly as it was given before. \\n'}, {'role': 'user', 'content': \"Which electoral_area has the highest closest_library_dist_km_median in table 'distances'?\"}]\n",
      "Info: Ollama parameters:\n",
      "model=sqlcoder:latest,\n",
      "options={},\n",
      "keep_alive=None\n",
      "Info: Prompt Content:\n",
      "[{\"role\": \"system\", \"content\": \"You are a PostgreSQL expert. Please help to generate a SQL query to answer the question. Your response should ONLY be based on the given context and follow the response guidelines and format instructions. \\n===Additional Context \\n\\nThe following columns are in the distances table in the postgres database:\\n\\n|      | table_catalog   | table_schema   | table_name   | column_name                                   | data_type        |\\n|-----:|:----------------|:---------------|:-------------|:----------------------------------------------|:-----------------|\\n|  874 | postgres        | dfg            | distances    | closest_library_dist_km_median                | double precision |\\n|  875 | postgres        | dfg            | distances    | closest_school_dist_km_median                 | double precision |\\n|  876 | postgres        | dfg            | distances    | closest_strongstart_school_dist_km_median     | double precision |\\n|  877 | postgres        | dfg            | distances    | closest_adult_education_school_dist_km_median | double precision |\\n|  878 | postgres        | dfg            | distances    | closest_postsecondary_school_dist_km_median   | double precision |\\n| 1066 | postgres        | dfg            | distances    | closest_school_name_agg_list                  | text             |\\n| 1067 | postgres        | dfg            | distances    | closest_adult_education_school_name_agg_list  | text             |\\n| 1087 | postgres        | dfg            | distances    | electoral_area                                | text             |\\n| 1088 | postgres        | dfg            | distances    | closest_library_name_agg_list                 | text             |\\n| 1101 | postgres        | dfg            | distances    | closest_postsecondary_school_name_agg_list    | text             |\\n| 1102 | postgres        | dfg            | distances    | closest_strongstart_school_name_agg_list      | text             |\\n\\nThe following columns are in the test_table table in the postgres database:\\n\\n|      | table_catalog   | table_schema   | table_name   | column_name   | data_type         |\\n|-----:|:----------------|:---------------|:-------------|:--------------|:------------------|\\n| 1095 | postgres        | dfg            | test_table   | column1       | character varying |\\n\\nThe following columns are in the pg_timezone_abbrevs table in the postgres database:\\n\\n|      | table_catalog   | table_schema   | table_name          | column_name   | data_type   |\\n|-----:|:----------------|:---------------|:--------------------|:--------------|:------------|\\n|  376 | postgres        | pg_catalog     | pg_timezone_abbrevs | utc_offset    | interval    |\\n|  377 | postgres        | pg_catalog     | pg_timezone_abbrevs | is_dst        | boolean     |\\n| 1051 | postgres        | pg_catalog     | pg_timezone_abbrevs | abbrev        | text        |\\n\\nThe following columns are in the pg_statio_all_tables table in the postgres database:\\n\\n|      | table_catalog   | table_schema   | table_name           | column_name     | data_type   |\\n|-----:|:----------------|:---------------|:---------------------|:----------------|:------------|\\n|  482 | postgres        | pg_catalog     | pg_statio_all_tables | relid           | oid         |\\n|  483 | postgres        | pg_catalog     | pg_statio_all_tables | heap_blks_read  | bigint      |\\n|  484 | postgres        | pg_catalog     | pg_statio_all_tables | heap_blks_hit   | bigint      |\\n|  485 | postgres        | pg_catalog     | pg_statio_all_tables | idx_blks_read   | bigint      |\\n|  486 | postgres        | pg_catalog     | pg_statio_all_tables | idx_blks_hit    | bigint      |\\n|  487 | postgres        | pg_catalog     | pg_statio_all_tables | toast_blks_read | bigint      |\\n|  488 | postgres        | pg_catalog     | pg_statio_all_tables | toast_blks_hit  | bigint      |\\n|  489 | postgres        | pg_catalog     | pg_statio_all_tables | tidx_blks_read  | bigint      |\\n|  490 | postgres        | pg_catalog     | pg_statio_all_tables | tidx_blks_hit   | bigint      |\\n| 1784 | postgres        | pg_catalog     | pg_statio_all_tables | schemaname      | name        |\\n| 1785 | postgres        | pg_catalog     | pg_statio_all_tables | relname         | name        |\\n\\nThe following columns are in the pg_aggregate table in the postgres database:\\n\\n|      | table_catalog   | table_schema   | table_name   | column_name      | data_type   |\\n|-----:|:----------------|:---------------|:-------------|:-----------------|:------------|\\n|   57 | postgres        | pg_catalog     | pg_aggregate | aggfnoid         | regproc     |\\n|   58 | postgres        | pg_catalog     | pg_aggregate | aggkind          | \\\"char\\\"      |\\n|   59 | postgres        | pg_catalog     | pg_aggregate | aggnumdirectargs | smallint    |\\n|   60 | postgres        | pg_catalog     | pg_aggregate | aggtransfn       | regproc     |\\n|   61 | postgres        | pg_catalog     | pg_aggregate | aggfinalfn       | regproc     |\\n|   62 | postgres        | pg_catalog     | pg_aggregate | aggcombinefn     | regproc     |\\n|   63 | postgres        | pg_catalog     | pg_aggregate | aggserialfn      | regproc     |\\n|   64 | postgres        | pg_catalog     | pg_aggregate | aggdeserialfn    | regproc     |\\n|   65 | postgres        | pg_catalog     | pg_aggregate | aggmtransfn      | regproc     |\\n|   66 | postgres        | pg_catalog     | pg_aggregate | aggminvtransfn   | regproc     |\\n|   67 | postgres        | pg_catalog     | pg_aggregate | aggmfinalfn      | regproc     |\\n|   68 | postgres        | pg_catalog     | pg_aggregate | aggfinalextra    | boolean     |\\n|   69 | postgres        | pg_catalog     | pg_aggregate | aggmfinalextra   | boolean     |\\n|   70 | postgres        | pg_catalog     | pg_aggregate | aggfinalmodify   | \\\"char\\\"      |\\n|   71 | postgres        | pg_catalog     | pg_aggregate | aggmfinalmodify  | \\\"char\\\"      |\\n|   72 | postgres        | pg_catalog     | pg_aggregate | aggsortop        | oid         |\\n|   73 | postgres        | pg_catalog     | pg_aggregate | aggtranstype     | oid         |\\n|   74 | postgres        | pg_catalog     | pg_aggregate | aggtransspace    | integer     |\\n|   75 | postgres        | pg_catalog     | pg_aggregate | aggmtranstype    | oid         |\\n|   76 | postgres        | pg_catalog     | pg_aggregate | aggmtransspace   | integer     |\\n| 1263 | postgres        | pg_catalog     | pg_aggregate | agginitval       | text        |\\n| 1264 | postgres        | pg_catalog     | pg_aggregate | aggminitval      | text        |\\n\\nThe following columns are in the collations table in the postgres database:\\n\\n|      | table_catalog   | table_schema       | table_name   | column_name       | data_type         |\\n|-----:|:----------------|:-------------------|:-------------|:------------------|:------------------|\\n| 1506 | postgres        | information_schema | collations   | collation_catalog | name              |\\n| 1507 | postgres        | information_schema | collations   | collation_schema  | name              |\\n| 1508 | postgres        | information_schema | collations   | collation_name    | name              |\\n| 1509 | postgres        | information_schema | collations   | pad_attribute     | character varying |\\n\\nThe following columns are in the tables table in the postgres database:\\n\\n|      | table_catalog   | table_schema       | table_name   | column_name                  | data_type         |\\n|-----:|:----------------|:-------------------|:-------------|:-----------------------------|:------------------|\\n| 1242 | postgres        | information_schema | tables       | table_catalog                | name              |\\n| 1243 | postgres        | information_schema | tables       | table_schema                 | name              |\\n| 1244 | postgres        | information_schema | tables       | table_name                   | name              |\\n| 1245 | postgres        | information_schema | tables       | table_type                   | character varying |\\n| 1247 | postgres        | information_schema | tables       | self_referencing_column_name | name              |\\n| 1248 | postgres        | information_schema | tables       | reference_generation         | character varying |\\n| 1249 | postgres        | information_schema | tables       | user_defined_type_catalog    | name              |\\n| 1250 | postgres        | information_schema | tables       | user_defined_type_schema     | name              |\\n| 1251 | postgres        | information_schema | tables       | user_defined_type_name       | name              |\\n| 1252 | postgres        | information_schema | tables       | is_insertable_into           | character varying |\\n| 1253 | postgres        | information_schema | tables       | is_typed                     | character varying |\\n| 1256 | postgres        | information_schema | tables       | commit_action                | character varying |\\n\\nThe following columns are in the pg_cast table in the postgres database:\\n\\n|     | table_catalog   | table_schema   | table_name   | column_name   | data_type   |\\n|----:|:----------------|:---------------|:-------------|:--------------|:------------|\\n| 111 | postgres        | pg_catalog     | pg_cast      | oid           | oid         |\\n| 112 | postgres        | pg_catalog     | pg_cast      | castsource    | oid         |\\n| 113 | postgres        | pg_catalog     | pg_cast      | casttarget    | oid         |\\n| 114 | postgres        | pg_catalog     | pg_cast      | castfunc      | oid         |\\n| 115 | postgres        | pg_catalog     | pg_cast      | castcontext   | \\\"char\\\"      |\\n| 116 | postgres        | pg_catalog     | pg_cast      | castmethod    | \\\"char\\\"      |\\n\\nThe following columns are in the information_schema_catalog_name table in the postgres database:\\n\\n|      | table_catalog   | table_schema       | table_name                      | column_name   | data_type   |\\n|-----:|:----------------|:-------------------|:--------------------------------|:--------------|:------------|\\n| 1437 | postgres        | information_schema | information_schema_catalog_name | catalog_name  | name        |\\n\\nThe following columns are in the pg_timezone_names table in the postgres database:\\n\\n|      | table_catalog   | table_schema   | table_name        | column_name   | data_type   |\\n|-----:|:----------------|:---------------|:------------------|:--------------|:------------|\\n|  378 | postgres        | pg_catalog     | pg_timezone_names | utc_offset    | interval    |\\n|  379 | postgres        | pg_catalog     | pg_timezone_names | is_dst        | boolean     |\\n| 1054 | postgres        | pg_catalog     | pg_timezone_names | name          | text        |\\n| 1055 | postgres        | pg_catalog     | pg_timezone_names | abbrev        | text        |\\n\\n===Response Guidelines \\n1. If the provided context is sufficient, please generate a valid SQL query without any explanations for the question. \\n2. If the provided context is almost sufficient but requires knowledge of a specific string in a particular column, please generate an intermediate SQL query to find the distinct strings in that column. Prepend the query with a comment saying intermediate_sql \\n3. If the provided context is insufficient, please explain why it can't be generated. \\n4. Please use the most relevant table(s). \\n5. If the question has been asked and answered before, please repeat the answer exactly as it was given before. \\n\"}, {\"role\": \"user\", \"content\": \"Which electoral_area has the highest closest_library_dist_km_median in table 'distances'?\"}]\n",
      "Info: Ollama Response:\n",
      "{'model': 'sqlcoder:latest', 'created_at': '2024-06-26T17:42:57.505151Z', 'message': {'role': 'assistant', 'content': \"\\nSelect MAX(closest_library_dist_km_median) AS max_distance FROM distances WHERE electoral_area = 'Which electoral_area has the highest closest_library_dist_km_median in table ''distances''';\"}, 'done_reason': 'stop', 'done': True, 'total_duration': 1890973792, 'load_duration': 6267375, 'prompt_eval_count': 6, 'prompt_eval_duration': 279256000, 'eval_count': 55, 'eval_duration': 1601997000}\n",
      "LLM Response: \n",
      "Select MAX(closest_library_dist_km_median) AS max_distance FROM distances WHERE electoral_area = 'Which electoral_area has the highest closest_library_dist_km_median in table ''distances''';\n",
      "Info: Output from LLM: \n",
      "Select MAX(closest_library_dist_km_median) AS max_distance FROM distances WHERE electoral_area = 'Which electoral_area has the highest closest_library_dist_km_median in table ''distances'''; \n",
      "Extracted SQL: Select MAX(closest_library_dist_km_median) AS max_distance FROM distances WHERE electoral_area = 'Which electoral_area has the highest closest_library_dist_km_median in table ''distances'''\n",
      "Select MAX(closest_library_dist_km_median) AS max_distance FROM distances WHERE electoral_area = 'Which electoral_area has the highest closest_library_dist_km_median in table ''distances'''\n",
      "Couldn't run sql:  relation \"distances\" does not exist\n",
      "LINE 1: ...sest_library_dist_km_median) AS max_distance FROM distances ...\n",
      "                                                             ^\n",
      "\n"
     ]
    }
   ],
   "source": [
    "vn.ask(question=\"Which electoral_area has the highest closest_library_dist_km_median in table 'distances'?\")"
   ]
  },
  {
   "cell_type": "code",
   "execution_count": 32,
   "id": "a4ec9657-5159-4592-83a2-258d3084b4ea",
   "metadata": {},
   "outputs": [
    {
     "name": "stdout",
     "output_type": "stream",
     "text": [
      "Your app is running at:\n",
      "http://localhost:8084\n",
      " * Serving Flask app 'vanna.flask'\n",
      " * Debug mode: on\n",
      "[]\n",
      "None\n"
     ]
    }
   ],
   "source": [
    "from vanna.flask import VannaFlaskApp\n",
    "app = VannaFlaskApp(vn)\n",
    "app.run()"
   ]
  },
  {
   "cell_type": "code",
   "execution_count": null,
   "id": "4bbc14c4-5f86-4a2f-b40f-132e6aa34d43",
   "metadata": {},
   "outputs": [],
   "source": []
  }
 ],
 "metadata": {
  "kernelspec": {
   "display_name": "Python 3 (ipykernel)",
   "language": "python",
   "name": "python3"
  },
  "language_info": {
   "codemirror_mode": {
    "name": "ipython",
    "version": 3
   },
   "file_extension": ".py",
   "mimetype": "text/x-python",
   "name": "python",
   "nbconvert_exporter": "python",
   "pygments_lexer": "ipython3",
   "version": "3.12.3"
  }
 },
 "nbformat": 4,
 "nbformat_minor": 5
}
