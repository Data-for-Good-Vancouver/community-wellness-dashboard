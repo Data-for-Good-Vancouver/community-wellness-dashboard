{
 "cells": [
  {
   "cell_type": "code",
   "execution_count": 1,
   "id": "fe478da3-ad13-41fa-ac9e-061e04aa9628",
   "metadata": {},
   "outputs": [],
   "source": [
    "import pandas as pd \n",
    "df = pd.read_csv(\"./data/properties.csv\") #This is the table \"properties_with_distances\" in the folder \"Final Data\" inside Google Drive."
   ]
  },
  {
   "cell_type": "code",
   "execution_count": 2,
   "id": "38b4b07f-976f-4abd-a9dd-0d9edb7e1ff2",
   "metadata": {},
   "outputs": [],
   "source": [
    "from sqlalchemy import create_engine\n",
    "engine = create_engine(\"sqlite:///dfg.db\") #This database you can create on a local machine\n",
    "df.to_sql(\"properties\", engine, index=False)"
   ]
  },
  {
   "cell_type": "code",
   "execution_count": 3,
   "id": "ed43565d-a73e-4fd0-a3a7-08e4250731f7",
   "metadata": {},
   "outputs": [],
   "source": [
    "df = pd.read_csv(\"./data/distances.csv\") #This is the table \"electoral_areas_with_median_distances\" in the folder \"Final Data\" inside Google Drive."
   ]
  },
  {
   "cell_type": "code",
   "execution_count": 5,
   "id": "69c55df6-632e-4794-a04a-6e273a9d9d05",
   "metadata": {},
   "outputs": [
    {
     "data": {
      "text/plain": [
       "12"
      ]
     },
     "execution_count": 5,
     "metadata": {},
     "output_type": "execute_result"
    }
   ],
   "source": [
    "df.to_sql(\"distances\", engine, index=False)"
   ]
  },
  {
   "cell_type": "code",
   "execution_count": 3,
   "id": "b2310f88-3fe6-45d9-a01d-da2e903ee5ec",
   "metadata": {},
   "outputs": [],
   "source": [
    "from llama_index.llms.ollama import Ollama\n",
    "#This model mod is based on sqlcoder from Ollama, you have to create a modelfile to specify what hyperparameters you want to use\n",
    "llm = Ollama(model=\"mod\", request_timeout=60.0)"
   ]
  },
  {
   "cell_type": "code",
   "execution_count": null,
   "id": "246a0bf3-49c3-4f4d-9949-a202432c9ead",
   "metadata": {},
   "outputs": [],
   "source": [
    "from llama_index.core.query_engine import NLSQLTableQueryEngine\n",
    "from llama_index.core import SQLDatabase\n",
    "# Set up database\n",
    "sql_database = SQLDatabase(engine, schema = \"distances\")\n",
    "from llama_index.embeddings.huggingface import HuggingFaceEmbedding\n",
    "from llama_index.core import Settings\n",
    "\n",
    "# create embedding\n",
    "Settings.embed_model = HuggingFaceEmbedding(\n",
    "    model_name=\"BAAI/bge-small-en-v1.5\"\n",
    ")\n",
    "query_engine = NLSQLTableQueryEngine(\n",
    "    sql_database=sql_database, llm=llm\n",
    ")\n",
    "query_str = \"Which electoral_area has the highest closest_library_dist_km_median in distances?\"\n",
    "response = query_engine.query(query_str)"
   ]
  },
  {
   "cell_type": "code",
   "execution_count": null,
   "id": "a89b387c-b12f-4783-98ce-cca3b189fa2d",
   "metadata": {},
   "outputs": [],
   "source": [
    "from IPython.display import Markdown, display\n",
    "display(Markdown(f\"<b>{response}</b>\")) # Hopefully it will produce correct responses"
   ]
  }
 ],
 "metadata": {
  "kernelspec": {
   "display_name": "Python 3 (ipykernel)",
   "language": "python",
   "name": "python3"
  },
  "language_info": {
   "codemirror_mode": {
    "name": "ipython",
    "version": 3
   },
   "file_extension": ".py",
   "mimetype": "text/x-python",
   "name": "python",
   "nbconvert_exporter": "python",
   "pygments_lexer": "ipython3",
   "version": "3.12.3"
  }
 },
 "nbformat": 4,
 "nbformat_minor": 5
}
